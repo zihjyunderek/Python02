{
  "nbformat": 4,
  "nbformat_minor": 0,
  "metadata": {
    "colab": {
      "name": "PyAdvanced2.2_Properties.ipynb",
      "provenance": [],
      "collapsed_sections": []
    },
    "kernelspec": {
      "name": "python3",
      "display_name": "Python 3"
    }
  },
  "cells": [
    {
      "cell_type": "markdown",
      "metadata": {
        "id": "Q_8lZZEu1wE_"
      },
      "source": [
        "# Properties\n",
        "## Access data only through special logic\n",
        "\n",
        "In python, or in any programming, sometimes we want to make a restriction that accesses to a piece of data can only be done by following certain prescribed logic, so the integrity of the data is well enforced.  \n",
        "\n",
        "This can usually be done by using getter and setter, and implementing the logic of access in the getter and setter."
      ]
    },
    {
      "cell_type": "code",
      "metadata": {
        "id": "_3rRNGRe1vHK"
      },
      "source": [
        "# Version 1, no protection of the data\n",
        "class person1:\n",
        "  def __init__(self, name, age=0):\n",
        "    self.name = name\n",
        "    self.age = age\n",
        "\n",
        "a1 = person1('John', 30)\n",
        "\n",
        "# If we want to update John's age, we can only update expicitly\n",
        "a1.age = 31\n",
        "\n",
        "# But there can be errors in the program that lead to unreasonable values, for example\n",
        "b1 = person1('Peter')\n",
        "b1.age = -1 #This is unreasonable, but the program will accept it\n"
      ],
      "execution_count": null,
      "outputs": []
    },
    {
      "cell_type": "code",
      "metadata": {
        "id": "6vV9QUvJtoUi"
      },
      "source": [
        "# Version 2, using getter and setter\n",
        "# This usually done by assigning a \"private varialbe\" name to the data\n",
        "# In python, a data attribute that starts with an underscore is cnosidered \n",
        "# a private variable by convention\n",
        "class person2:\n",
        "  def __init__(self, name, age=0):\n",
        "    self.name = name\n",
        "    self._age = age\n",
        "\n",
        "  def get_age(self):\n",
        "    print(\"{}'s age is {}\".format(self.name, self._age))\n",
        "    return self._age\n",
        "\n",
        "  def set_age(self, age):\n",
        "    if age < 0:\n",
        "      print('Age cannot be negative')\n",
        "    elif age > 200:\n",
        "      print('Unreasonable value: {}}is too big as a value for age.')\n",
        "    else:\n",
        "      self._age = age\n",
        "      print(\"{}'s age is successfully updated\".format(self.name))\n",
        "\n",
        "a2 = person2('John')\n",
        "a2.set_age(30)\n",
        "\n",
        "b2 = person2('Peter')\n",
        "b2.set_age(-10)  # This update will be rejected\n",
        "\n",
        "a2.get_age()\n",
        "b2.get_age()"
      ],
      "execution_count": null,
      "outputs": []
    },
    {
      "cell_type": "code",
      "metadata": {
        "colab": {
          "base_uri": "https://localhost:8080/"
        },
        "id": "CCW4UQ34MUfj",
        "outputId": "b214e882-c6e4-46bb-c01e-4a217de3cbfa"
      },
      "source": [
        "# You can still change object data members to unreasonable values by direct access\n",
        "b2._age = -3\n",
        "b2.get_age()"
      ],
      "execution_count": null,
      "outputs": [
        {
          "output_type": "stream",
          "text": [
            "Peter's age is -3\n"
          ],
          "name": "stdout"
        },
        {
          "output_type": "execute_result",
          "data": {
            "text/plain": [
              "-3"
            ]
          },
          "metadata": {
            "tags": []
          },
          "execution_count": 3
        }
      ]
    },
    {
      "cell_type": "markdown",
      "metadata": {
        "id": "6XxeVu5M6jYs"
      },
      "source": [
        "## Problems with only using getters and setters\n",
        "\n",
        "The above code using getter and setter works fine to protect the integrity of the data 'age' now.  However, there are still two drawbacks:\n",
        "1. The code now becomes more verbose.\n",
        "2. Much more seriously, if there are old code that were already written using the plain style of access, we now have to modify all that old code.  \n",
        "  a. Note sometimes it is just a matter of being cumbersome, but sometimes we simpe do have no way of modifying the code.  For example, we may want to make our code to work with a large piece of code written by someone else."
      ]
    },
    {
      "cell_type": "markdown",
      "metadata": {
        "id": "kKkyZtN77169"
      },
      "source": [
        "## The property class\n",
        "Python offers a convenient way to solve the problem in this situation: using preperty class. "
      ]
    },
    {
      "cell_type": "code",
      "metadata": {
        "id": "8l78-KbI6CIi",
        "colab": {
          "base_uri": "https://localhost:8080/"
        },
        "outputId": "ed333961-ece3-437e-bc2d-044e9c2dd828"
      },
      "source": [
        "# Use property class\n",
        "class person3:\n",
        "  def __init__(self, name, age=0):\n",
        "    self.name = name\n",
        "    self.age = age\n",
        "\n",
        "  def get_age(self):\n",
        "    print(\"{}'s age is {}\".format(self.name, self._age))\n",
        "    return self._age\n",
        "\n",
        "  def set_age(self, age):\n",
        "    if age < 0:\n",
        "      raise ValueError('Age cannot be negative')\n",
        "    elif age > 200:\n",
        "      raise ValueError('Unreasonable value: {} is too big as a value for age.'.format(age))\n",
        "    else:\n",
        "      self._age = age\n",
        "      print(\"{}'s age is successfully updated as {}\".format(self.name, age))\n",
        "  \n",
        "  age = property(get_age, set_age)\n",
        "\n",
        "# Note that we now no longer need to call get_age() and set_age() explicitly\n",
        "a3 = person3('John', 23)\n",
        "print(a3.age)"
      ],
      "execution_count": null,
      "outputs": [
        {
          "output_type": "stream",
          "text": [
            "John's age is successfully updated as 23\n",
            "John's age is 23\n",
            "23\n"
          ],
          "name": "stdout"
        }
      ]
    },
    {
      "cell_type": "code",
      "metadata": {
        "id": "lGGCGrNbGH47"
      },
      "source": [
        "a3.age = -5"
      ],
      "execution_count": null,
      "outputs": []
    },
    {
      "cell_type": "code",
      "metadata": {
        "id": "DTXsVCN1GK2Y"
      },
      "source": [
        "a3.age = 500"
      ],
      "execution_count": null,
      "outputs": []
    },
    {
      "cell_type": "code",
      "metadata": {
        "id": "r8x_ZWP8GNGl"
      },
      "source": [
        "print(a3.age)\n",
        "a3.age = 30\n",
        "print(a3.age)"
      ],
      "execution_count": null,
      "outputs": []
    },
    {
      "cell_type": "code",
      "metadata": {
        "id": "N0hxPF6X-ytf"
      },
      "source": [
        "# Now we can test something even more powerful\n",
        "b3 = person3('Peter', -20)\n",
        "print(b3.age)"
      ],
      "execution_count": null,
      "outputs": []
    },
    {
      "cell_type": "markdown",
      "metadata": {
        "id": "lFv_pY7ngoSL"
      },
      "source": [
        "# What is property?\n",
        "property is actually a class: `class property`.  That is, in the previous code, when we run\n",
        "```\n",
        "age = property(get_temp, set_temp)\n",
        "```\n",
        "we actually create a property object, and assign that object to `age`.\n",
        "\n",
        "\n",
        "And\n",
        "1. When we create a property object, the first argument of the object creation call is used as the getter, and the second argument the setter.\n",
        "2. When we read the value of this object, its getter function is called.\n",
        "3. When we assign a value to this object, its setter function is called.\n",
        "\n",
        "The full creation interface of property is as follows:\n",
        "```\n",
        " |  property(fget=None, fset=None, fdel=None, doc=None) -> property attribute\n",
        " |  \n",
        " |  fget is a function to be used for getting an attribute value, and likewise\n",
        " |  fset is a function for setting, and fdel a function for del'ing, an\n",
        " |  attribute.  Typical use is to define a managed attribute x:\n",
        " |  \n",
        " |  class C(object):\n",
        " |      def getx(self): return self._x\n",
        " |      def setx(self, value): self._x = value\n",
        " |      def delx(self): del self._x\n",
        " |      x = property(getx, setx, delx, \"I'm the 'x' property.\")\n",
        " |  \n",
        "```\n"
      ]
    },
    {
      "cell_type": "code",
      "metadata": {
        "id": "2W7TwfkUfXSW"
      },
      "source": [
        "help(property)"
      ],
      "execution_count": null,
      "outputs": []
    },
    {
      "cell_type": "markdown",
      "metadata": {
        "id": "ToXXZ6IeEwag"
      },
      "source": [
        "## Property decorator\n",
        "Finally, we can implement the above property logic using decorator mechanism.  This can make the code more readable.\n",
        "\n",
        "Python help describes the property decorator as follows:\n",
        "```\n",
        " |  Decorators make defining new properties or modifying existing ones easy:\n",
        " |  \n",
        " |  class C(object):\n",
        " |      @property\n",
        " |      def x(self):\n",
        " |          \"I am the 'x' property.\"\n",
        " |          return self._x\n",
        " |      @x.setter\n",
        " |      def x(self, value):\n",
        " |          self._x = value\n",
        " |      @x.deleter\n",
        " |      def x(self):\n",
        " |          del self._x\n",
        "```"
      ]
    },
    {
      "cell_type": "code",
      "metadata": {
        "id": "Y7N8saZXbmAH"
      },
      "source": [
        "# Use property class\n",
        "class person4:\n",
        "  def __init__(self, name, age=0):\n",
        "    self.name = name\n",
        "    self.age = age\n",
        "\n",
        "  @property\n",
        "  def age(self):\n",
        "    print(\"{}'s age is {}\".format(self.name, self._age))\n",
        "    return self._age\n",
        "\n",
        "  @age.setter\n",
        "  def age(self, age):\n",
        "    if age < 0:\n",
        "      raise ValueError('Age cannot be negative')\n",
        "    elif age > 200:\n",
        "      raise ValueError('Unreasonable value: {} is too big as a value for age.'.format(age))\n",
        "    else:\n",
        "      self._age = age\n",
        "      print(\"{}'s age is successfully updated as {}\".format(self.name, age))\n",
        "  \n",
        "  # we also add an age deleter to make thing more complete\n",
        "  @age.deleter\n",
        "  def age(self):\n",
        "    del self._age\n",
        "  \n",
        "\n",
        "# Note that we now no longer need to call get_age() and set_age() explicitly\n",
        "a4 = person4('John')\n",
        "print(a4.age)\n",
        "\n",
        "b4 = person4('Peter')\n",
        "b4.age = -10"
      ],
      "execution_count": null,
      "outputs": []
    },
    {
      "cell_type": "code",
      "metadata": {
        "id": "Ohu8EUf_eRoO"
      },
      "source": [
        "c4 = person4('Mary', 800)"
      ],
      "execution_count": null,
      "outputs": []
    },
    {
      "cell_type": "markdown",
      "metadata": {
        "id": "9bn6uA37fGus"
      },
      "source": [
        "### Brief explanation of property decorator\n",
        "\n",
        "The above code work well and somewhat magically.\n",
        "\n",
        "The following is a brief explanation.\n",
        "\n",
        "1. @property\n",
        "```@property\n",
        "  def age(self):\n",
        "    print(\"{}'s age is {}\".format(self.name, self._age))\n",
        "    return self._age\n",
        "```\n",
        "What this code does is to enable the function attribute age() to be read-accessed like a data attribute.  For ths to work, you must make sure age() returns something.  That's all.\n",
        "2. @age.setter\n",
        "```\n",
        "@age.setter\n",
        "  def age(self, age):\n",
        "    if age < 0:\n",
        "      raise ValueError('Age cannot be negative')\n",
        "    elif age > 200:\n",
        "      raise ValueError('Unreasonable value: {} is too big as a value for age.'.format(age))\n",
        "    else:\n",
        "      self._age = age\n",
        "      print(\"{}'s age is successfully updated as {}\".format(self.name, age))\n",
        "``` \n",
        "This code enables the name age to be write-accessed like a data member. Implement your data integrity checking logic here.  And after the checking, you can update the (any) data your want to update here.  (To be more accurate, this code first redefine the function age() as update operation, then associates this newly redefined age() function with the action of write-access to the name age.  \n",
        "\n",
        "\n",
        "For a thorough understanding of how this work in depth, you can study the topic of python **descriptor**."
      ]
    }
  ]
}