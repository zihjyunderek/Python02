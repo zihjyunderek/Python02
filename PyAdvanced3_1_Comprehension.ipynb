{
  "nbformat": 4,
  "nbformat_minor": 0,
  "metadata": {
    "colab": {
      "name": "PyAdvanced3.1_Comprehension.ipynb",
      "provenance": [],
      "collapsed_sections": []
    },
    "kernelspec": {
      "name": "python3",
      "display_name": "Python 3"
    }
  },
  "cells": [
    {
      "cell_type": "markdown",
      "metadata": {
        "id": "RjWtu4QR5gXi"
      },
      "source": [
        "## A super powerful feature in Python: list comprehension!\n",
        "\n",
        "####How to understand list comprehension?\n",
        "* The concept of list comprehesion in Python comes from the concept of set comprehension in logics and mathematics\n",
        "\n",
        "Consider the following examples:\n",
        "* $ \\{x | \\, x \\in N, 0 < x < 11 \\}$\n",
        "  * This is a set comprehension of $\\{ 1, 2, 3, ... 10 \\}$\n",
        "\n",
        "* Support $ X = \\{1, 2, 3, 4, 5 \\} $, then \n",
        "  * $ Y = \\{ 2i |\\,  for \\, i \\in X \\} $ is a set comprehension of $\\{2, 4, 6, 8, 10\\}$\n",
        "  * $ Y = \\{i+10 |\\,  for \\, i \\in X \\} $ is a set comprehension of $\\{11, 12, 13, 14, 15\\}$\n",
        "\n",
        "We can also express more complicated conditions using set comprehension.  For example \n",
        "* $ Y = \\{i+10 |\\,  for \\, i \\in X, and\\, (i+10)/3 \\neq 0 \\}$\n",
        "\n",
        "List comprehension in Python is very similiar!"
      ]
    },
    {
      "cell_type": "code",
      "metadata": {
        "id": "hsaZWLE49eIr",
        "colab": {
          "base_uri": "https://localhost:8080/"
        },
        "outputId": "cf000e44-1345-49b1-fa15-f408701a03fc"
      },
      "source": [
        "# Examples of list comprehension\n",
        "x = [1,2,3,4,5]\n",
        "\n",
        "y = [i for i in x if i>3]\n",
        "print(y)\n",
        "\n",
        "y = [2*i for i in x]\n",
        "print(y)\n",
        "\n",
        "y = [i+10 for i in x]\n",
        "print(y)\n",
        "\n",
        "# Expressing complicated conditions in list comprehension\n",
        "y = [i+10 for i in x if (i+10)%3 != 0]\n",
        "print(y)\n",
        "\n",
        "# You can also define more powerful operations\n",
        "y = [i**3 for i in x]\n",
        "print(y)"
      ],
      "execution_count": null,
      "outputs": [
        {
          "output_type": "stream",
          "text": [
            "[4, 5]\n",
            "[2, 4, 6, 8, 10]\n",
            "[11, 12, 13, 14, 15]\n",
            "[11, 13, 14]\n",
            "[1, 8, 27, 64, 125]\n"
          ],
          "name": "stdout"
        }
      ]
    },
    {
      "cell_type": "markdown",
      "metadata": {
        "id": "TvxXldJGEq2Y"
      },
      "source": [
        "# Set comprehension and Dictionary comprehension\n",
        "\n",
        "This feature is call list comprehension during to historical reasons.  \n",
        "* Actually not just list, set and dictionary can have comprehension, too.\n",
        "* Try at home as exercise.\n"
      ]
    },
    {
      "cell_type": "markdown",
      "metadata": {
        "id": "nTCazaW34AtJ"
      },
      "source": [
        "### Do we have tuple comprehension?\n",
        "\n",
        "* The answer is no!\n",
        "* But we do have generator expression!"
      ]
    },
    {
      "cell_type": "code",
      "metadata": {
        "id": "w9diodzN4EMG",
        "colab": {
          "base_uri": "https://localhost:8080/"
        },
        "outputId": "12ee21cd-4250-4602-8a87-db6a7baca60a"
      },
      "source": [
        "# Let's try ( ) and comprehension\n",
        "x = (1,2,3,4,5)\n",
        "y = (i**3 for i in x)\n",
        "print(y)\n",
        "\n",
        "for i in y:\n",
        "  print(i)"
      ],
      "execution_count": null,
      "outputs": [
        {
          "output_type": "stream",
          "text": [
            "<generator object <genexpr> at 0x7f7fd7e5dc50>\n",
            "1\n",
            "8\n",
            "27\n",
            "64\n",
            "125\n"
          ],
          "name": "stdout"
        }
      ]
    }
  ]
}