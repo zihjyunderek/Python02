{
  "nbformat": 4,
  "nbformat_minor": 0,
  "metadata": {
    "colab": {
      "name": "PyAdvanced2.1_Iterators.ipynb",
      "provenance": [],
      "collapsed_sections": []
    },
    "kernelspec": {
      "name": "python3",
      "display_name": "Python 3"
    }
  },
  "cells": [
    {
      "cell_type": "markdown",
      "metadata": {
        "id": "Id3X5sNHft3Y"
      },
      "source": [
        "## Iterator and Iterables\n",
        "\n",
        "Iterators and Interables are:\n",
        "* Very important feature of Python.\n",
        "* Foundation of for loops in Python.\n"
      ]
    },
    {
      "cell_type": "markdown",
      "metadata": {
        "id": "ZzvoEZ54IXXn"
      },
      "source": [
        "### Classes in Python\n",
        "Python has two types of classes\n",
        "* Class by inheritance\n",
        "* Class by behavior\n",
        "\n",
        "Class by behavoir is also called \"duck type\".  It comes from the English saying: \"If it works like a duck, it quacks likes a duck, it must be a duck.\"\n",
        "\n",
        "In Python literature, for a class (or an object) that exhibits certain behavior and therefore conforms to the definitions of certain \"behavior\" class, we also say that the class (or object) conforms to certain \"protocol\".\n"
      ]
    },
    {
      "cell_type": "markdown",
      "metadata": {
        "id": "bM33I4hH8Ufy"
      },
      "source": [
        "### Definition of Iterable\n",
        "Iterable and Iterator are two examples of such \"behavior\" classes.  \n",
        "\n",
        "Iterable:\n",
        "A class is an Iterable class if:\n",
        "* It implements a method called `__iter__()`.\n",
        "* When one calls the `__iter__()` on an object of that class, it returns an **iterator**. \n",
        "* Most of built-in containers in Python like: list, tuple, string etc. are iterables.\n",
        "\n",
        "Python has a builtin function iter().\n",
        "* `iter(some_iterable) == some_iterable.__iter__()`\n"
      ]
    },
    {
      "cell_type": "markdown",
      "metadata": {
        "id": "MCrB9-mV8fMU"
      },
      "source": [
        "### Definition of Iterator\n",
        "Iterator: A class is an Iterator class if \n",
        "* It implements iterator two special methods, `__iter__()` and `__next__()`\n",
        "  * These two methods are collectively called the iterator protocol.\n",
        "* When one calls `__iter__()`, the iterator returns itself\n",
        "* When one calls `__next__()`, the iteraotr returns an object\n",
        "* When one calls `__next__()` and the object decides it is time to end, it raises StopIteration.\n",
        "\n",
        "Python has built-in function iter() and next()\n",
        "* which is just a thin wrapper and call `__iter__()` and `__next__()` directly"
      ]
    },
    {
      "cell_type": "code",
      "metadata": {
        "id": "unm4mXOf8eM8",
        "colab": {
          "base_uri": "https://localhost:8080/",
          "height": 84
        },
        "outputId": "520048f0-84aa-4160-9c85-8882b55fe870"
      },
      "source": [
        "# Lists are iterables\n",
        "my_list = [3, 6, 8, 9]\n",
        "for i in my_list:\n",
        "  print(i)\n"
      ],
      "execution_count": null,
      "outputs": [
        {
          "output_type": "stream",
          "text": [
            "3\n",
            "6\n",
            "8\n",
            "9\n"
          ],
          "name": "stdout"
        }
      ]
    },
    {
      "cell_type": "code",
      "metadata": {
        "id": "j683v9zABNI0",
        "colab": {
          "base_uri": "https://localhost:8080/",
          "height": 50
        },
        "outputId": "9ef9f621-7a4e-4de0-c764-3c78f6f0b4d0"
      },
      "source": [
        "my_list = [3, 6, 8, 9]\n",
        "my_iter = my_list.__iter__()\n",
        "print(my_iter.__next__())\n",
        "print(my_iter.__next__())\n"
      ],
      "execution_count": null,
      "outputs": [
        {
          "output_type": "stream",
          "text": [
            "3\n",
            "6\n"
          ],
          "name": "stdout"
        }
      ]
    },
    {
      "cell_type": "code",
      "metadata": {
        "id": "aSCZi3921MCe",
        "colab": {
          "base_uri": "https://localhost:8080/",
          "height": 34
        },
        "outputId": "81b2baee-23c2-4df1-aace-370d4ebbf4eb"
      },
      "source": [
        "my_iter.__next__()"
      ],
      "execution_count": null,
      "outputs": [
        {
          "output_type": "execute_result",
          "data": {
            "text/plain": [
              "8"
            ]
          },
          "metadata": {
            "tags": []
          },
          "execution_count": 3
        }
      ]
    },
    {
      "cell_type": "code",
      "metadata": {
        "id": "bz2ZD3TL1SEA",
        "colab": {
          "base_uri": "https://localhost:8080/",
          "height": 34
        },
        "outputId": "00675131-d0bd-48d5-fa55-16d1e7fa8e51"
      },
      "source": [
        "my_iter.__next__()"
      ],
      "execution_count": null,
      "outputs": [
        {
          "output_type": "execute_result",
          "data": {
            "text/plain": [
              "9"
            ]
          },
          "metadata": {
            "tags": []
          },
          "execution_count": 4
        }
      ]
    },
    {
      "cell_type": "code",
      "metadata": {
        "id": "PBvlU0kB1V4X",
        "colab": {
          "base_uri": "https://localhost:8080/",
          "height": 162
        },
        "outputId": "b88a2ace-372e-4ac0-a480-d804f3e6c8d9"
      },
      "source": [
        "my_iter.__next__()"
      ],
      "execution_count": null,
      "outputs": [
        {
          "output_type": "error",
          "ename": "StopIteration",
          "evalue": "ignored",
          "traceback": [
            "\u001b[0;31m---------------------------------------------------------------------------\u001b[0m",
            "\u001b[0;31mStopIteration\u001b[0m                             Traceback (most recent call last)",
            "\u001b[0;32m<ipython-input-5-56d779eb7d74>\u001b[0m in \u001b[0;36m<module>\u001b[0;34m()\u001b[0m\n\u001b[0;32m----> 1\u001b[0;31m \u001b[0mmy_iter\u001b[0m\u001b[0;34m.\u001b[0m\u001b[0m__next__\u001b[0m\u001b[0;34m(\u001b[0m\u001b[0;34m)\u001b[0m\u001b[0;34m\u001b[0m\u001b[0;34m\u001b[0m\u001b[0m\n\u001b[0m",
            "\u001b[0;31mStopIteration\u001b[0m: "
          ]
        }
      ]
    },
    {
      "cell_type": "code",
      "metadata": {
        "id": "2T5RExGn1D-x",
        "colab": {
          "base_uri": "https://localhost:8080/",
          "height": 84
        },
        "outputId": "9c8d6c60-cd5b-4775-fa21-5c9e06af51ad"
      },
      "source": [
        "my_list = [3, 6, 8, 9]\n",
        "my_iter = my_list.__iter__()\n",
        "#print(my_iter.__next__())\n",
        "#print(my_iter.__next__())\n",
        "for i in my_iter:\n",
        "  print(\"rest of my_iter\", i)"
      ],
      "execution_count": null,
      "outputs": [
        {
          "output_type": "stream",
          "text": [
            "rest of my_iter 3\n",
            "rest of my_iter 6\n",
            "rest of my_iter 8\n",
            "rest of my_iter 9\n"
          ],
          "name": "stdout"
        }
      ]
    },
    {
      "cell_type": "code",
      "metadata": {
        "id": "f4MfHIlKfo59",
        "colab": {
          "base_uri": "https://localhost:8080/",
          "height": 151
        },
        "outputId": "18d0bd57-ba77-43b9-fa0e-0d609ba272a5"
      },
      "source": [
        "my_list = [3, 6, 9, 12]\n",
        "my_iterator1 = iter(my_list)\n",
        "my_iterator2 = iter(my_list)\n",
        "print(\"The next value from my_iterator is:\", next(my_iterator1))\n",
        "\n",
        "for i in my_iterator1:\n",
        "  print(\"Inside the loop:\", i)\n",
        "\n",
        "for i in my_iterator2:\n",
        "  print(\"Inside 2nd loop:\", i)"
      ],
      "execution_count": null,
      "outputs": [
        {
          "output_type": "stream",
          "text": [
            "The next value from my_iterator is: 3\n",
            "Inside the loop: 6\n",
            "Inside the loop: 9\n",
            "Inside the loop: 12\n",
            "Inside 2nd loop: 3\n",
            "Inside 2nd loop: 6\n",
            "Inside 2nd loop: 9\n",
            "Inside 2nd loop: 12\n"
          ],
          "name": "stdout"
        }
      ]
    },
    {
      "cell_type": "code",
      "metadata": {
        "id": "NvqdJKfQ-wD8"
      },
      "source": [
        "# You will get an StopIteration condition if you call next() again.\n",
        "next(my_iterator)"
      ],
      "execution_count": null,
      "outputs": []
    },
    {
      "cell_type": "markdown",
      "metadata": {
        "id": "fi11AXk99I5D"
      },
      "source": [
        "### The real for loop\n",
        "\n",
        "In fact, the for loop in Python\n",
        "```\n",
        "for element in iterable:\n",
        "    # do something with element\n",
        "```\n",
        "Is actually implemented as\n",
        "```\n",
        "# create an iterator object from that iterable\n",
        "iter_obj = iter(iterable)\n",
        "# infinite loop\n",
        "while True:\n",
        "    try:\n",
        "        # get the next item\n",
        "        element = next(iter_obj)\n",
        "        # do something with element\n",
        "    except StopIteration:\n",
        "        # if StopIteration is raised, break from loop\n",
        "        break\n",
        "```\n"
      ]
    },
    {
      "cell_type": "code",
      "metadata": {
        "id": "_EecW0mLAds0",
        "colab": {
          "base_uri": "https://localhost:8080/",
          "height": 123
        },
        "outputId": "697a2129-1ec1-4e43-d1d0-728219a47681"
      },
      "source": [
        "my_list = [3, 6, 9, 12]\n",
        "\n",
        "my_iterator = iter(my_list)\n",
        "print(\"Before the loop:\", next(my_iterator))\n",
        "\n",
        "while True:\n",
        "  try:\n",
        "    print(\"Inside the loop:\", next(my_iterator))\n",
        "  except StopIteration:\n",
        "    print(\"We have reached the last element of the iterator\")\n",
        "    print(\"And we received a StopIteration exception se we terminate\")\n",
        "    break;\n"
      ],
      "execution_count": null,
      "outputs": [
        {
          "output_type": "stream",
          "text": [
            "Before the loop: 3\n",
            "Inside the loop: 6\n",
            "Inside the loop: 9\n",
            "Inside the loop: 12\n",
            "We have reached the last element of the iterator\n",
            "And we received a StopIteration exception se we terminate\n"
          ],
          "name": "stdout"
        }
      ]
    },
    {
      "cell_type": "markdown",
      "metadata": {
        "id": "7ZUBA-PB_8Dt"
      },
      "source": [
        "## Build your own Iterators/Iterables\n",
        "\n",
        "This is very useful!"
      ]
    },
    {
      "cell_type": "code",
      "metadata": {
        "id": "V7wsh1XgADSP"
      },
      "source": [
        "class FloatLooper:\n",
        "    \"\"\"This class implements an iterator \n",
        "    It returns a floating point number from \"base\" to \"max\", \n",
        "    each time increment by \"inc\"\n",
        "    \"\"\"\n",
        "    def __init__(self, base = 0, inc = 0.1, max = 1):\n",
        "        self.base = base\n",
        "        self.inc = inc\n",
        "        self.max = max\n",
        "\n",
        "    def __iter__(self):\n",
        "        self.n = 0\n",
        "        return self\n",
        "\n",
        "    def __next__(self):\n",
        "        if self.base <= self.max:\n",
        "            self.base += self.inc\n",
        "            return self.base\n",
        "        else:\n",
        "            raise StopIteration"
      ],
      "execution_count": null,
      "outputs": []
    },
    {
      "cell_type": "code",
      "metadata": {
        "id": "6V6Bv-KpA39-",
        "colab": {
          "base_uri": "https://localhost:8080/",
          "height": 252
        },
        "outputId": "5089cd15-2865-488d-e81e-10b4e1db6bd9"
      },
      "source": [
        "for a in FloatLooper(113.8, 6.3, 201.8):\n",
        "  print(a)"
      ],
      "execution_count": null,
      "outputs": [
        {
          "output_type": "stream",
          "text": [
            "120.1\n",
            "126.39999999999999\n",
            "132.7\n",
            "139.0\n",
            "145.3\n",
            "151.60000000000002\n",
            "157.90000000000003\n",
            "164.20000000000005\n",
            "170.50000000000006\n",
            "176.80000000000007\n",
            "183.10000000000008\n",
            "189.4000000000001\n",
            "195.7000000000001\n",
            "202.0000000000001\n"
          ],
          "name": "stdout"
        }
      ]
    }
  ]
}