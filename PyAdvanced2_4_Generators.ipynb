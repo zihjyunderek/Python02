{
  "nbformat": 4,
  "nbformat_minor": 0,
  "metadata": {
    "colab": {
      "name": "PyAdvanced2.4_Generators.ipynb",
      "provenance": [],
      "collapsed_sections": []
    },
    "kernelspec": {
      "name": "python3",
      "display_name": "Python 3"
    }
  },
  "cells": [
    {
      "cell_type": "markdown",
      "metadata": {
        "id": "agKqhasb8O46"
      },
      "source": [
        "# Generators\n",
        "To build an iterator, you have to implement a class with\n",
        "1. ``__iter__()``\n",
        "2. ``__next__()``\n",
        "3. raise StopIteration in ``__next__()`` if you want the interator to stop at certain point.\n",
        "\n",
        "Python generators: simple way to create iterators.  The three actions above are automatically handled for generators by Python.\n",
        "\n",
        "There are two ways in Python to create generators:\n",
        "* Generator functions\n",
        "* Generator expressions\n",
        "\n",
        "## Generator function\n",
        "When you define a generator function, Python will autmatically create an iterator for you if you assign that fucntion to a variable.  \n",
        "\n",
        "A generator function differs from a normal function in the following ways:\n",
        "* A generator function contains one or more **yield** statements.\n",
        "* When called, the generator function returns an iterator object.\n",
        "* Methods ``__iter__()`` and ``__next__()`` are implemented automatically for the iterator.\n",
        "* When the ``__next__()`` of the iterator is called, the definition of the generator function is executed until a value is returned by the yield statement.\n",
        "* Once the function yields, the function pauses, and control is transferred to the caller of the ``__next__()``.\n",
        "* When ``__next__()`` of that iterator is called again, execution continue from where it was left next time.  Local variables and their states are remembered between successive calls.\n",
        "* When the function terminates, ``StopIteration`` is raised automatically on further calls.\n"
      ]
    },
    {
      "cell_type": "code",
      "metadata": {
        "id": "KCCissCR8HW9",
        "colab": {
          "base_uri": "https://localhost:8080/",
          "height": 322
        },
        "outputId": "1b366c93-238a-4a1b-8396-e42de9d1a594"
      },
      "source": [
        "# Simple generator function\n",
        "def simple_generator():\n",
        "  i = 0\n",
        "  while i < 3:\n",
        "    i += 1\n",
        "    print('The generator is called for {} time'.format(i))\n",
        "    yield i\n",
        "  print('The generator is ready to end')\n",
        "\n",
        "a = simple_generator()\n",
        "\n",
        "# The first three calls will return 1, 2, 3\n",
        "print(next(a))\n",
        "print(next(a))\n",
        "print(next(a))\n",
        "# This call will cause a StopIteration exception\n",
        "print(next(a))"
      ],
      "execution_count": null,
      "outputs": [
        {
          "output_type": "stream",
          "text": [
            "The generator is called for 1 time\n",
            "1\n",
            "The generator is called for 2 time\n",
            "2\n",
            "The generator is called for 3 time\n",
            "3\n",
            "The generator is ready to end\n"
          ],
          "name": "stdout"
        },
        {
          "output_type": "error",
          "ename": "StopIteration",
          "evalue": "ignored",
          "traceback": [
            "\u001b[0;31m---------------------------------------------------------------------------\u001b[0m",
            "\u001b[0;31mStopIteration\u001b[0m                             Traceback (most recent call last)",
            "\u001b[0;32m<ipython-input-1-787652c89eda>\u001b[0m in \u001b[0;36m<module>\u001b[0;34m()\u001b[0m\n\u001b[1;32m     15\u001b[0m \u001b[0mprint\u001b[0m\u001b[0;34m(\u001b[0m\u001b[0mnext\u001b[0m\u001b[0;34m(\u001b[0m\u001b[0ma\u001b[0m\u001b[0;34m)\u001b[0m\u001b[0;34m)\u001b[0m\u001b[0;34m\u001b[0m\u001b[0;34m\u001b[0m\u001b[0m\n\u001b[1;32m     16\u001b[0m \u001b[0;31m# This call will cause a StopIteration exception\u001b[0m\u001b[0;34m\u001b[0m\u001b[0;34m\u001b[0m\u001b[0;34m\u001b[0m\u001b[0m\n\u001b[0;32m---> 17\u001b[0;31m \u001b[0mprint\u001b[0m\u001b[0;34m(\u001b[0m\u001b[0mnext\u001b[0m\u001b[0;34m(\u001b[0m\u001b[0ma\u001b[0m\u001b[0;34m)\u001b[0m\u001b[0;34m)\u001b[0m\u001b[0;34m\u001b[0m\u001b[0;34m\u001b[0m\u001b[0m\n\u001b[0m",
            "\u001b[0;31mStopIteration\u001b[0m: "
          ]
        }
      ]
    },
    {
      "cell_type": "code",
      "metadata": {
        "id": "aAzbpkX-BQr8",
        "colab": {
          "base_uri": "https://localhost:8080/"
        },
        "outputId": "0651e55b-7a50-4314-b586-c6b350b08b20"
      },
      "source": [
        "# Generator will return an iterator which can be used in a for loop\n",
        "b = simple_generator()\n",
        "\n",
        "for i in b:\n",
        "  print(i)"
      ],
      "execution_count": null,
      "outputs": [
        {
          "output_type": "stream",
          "text": [
            "The generator is called for 1 time\n",
            "1\n",
            "The generator is called for 2 time\n",
            "2\n",
            "The generator is called for 3 time\n",
            "3\n",
            "The generator is ready to end\n"
          ],
          "name": "stdout"
        }
      ]
    },
    {
      "cell_type": "code",
      "metadata": {
        "id": "jMUKWabvBvq4",
        "colab": {
          "base_uri": "https://localhost:8080/",
          "height": 50
        },
        "outputId": "63843025-5ecd-449f-8c6a-357064c5d429"
      },
      "source": [
        "# Why is \"b\" able to achieve this in the for loop?\n",
        "# What is \"b\"?\n",
        "print(type(b))\n",
        "print(simple_generator)"
      ],
      "execution_count": null,
      "outputs": [
        {
          "output_type": "stream",
          "text": [
            "<class 'generator'>\n",
            "<function simple_generator at 0x7faba169c400>\n"
          ],
          "name": "stdout"
        }
      ]
    },
    {
      "cell_type": "code",
      "metadata": {
        "id": "Z5n5tuemB3NF"
      },
      "source": [
        "help(range)"
      ],
      "execution_count": null,
      "outputs": []
    },
    {
      "cell_type": "markdown",
      "metadata": {
        "id": "NS2ChHqPCwhC"
      },
      "source": [
        "### Examples of more useful generator functions\n",
        "\n"
      ]
    },
    {
      "cell_type": "code",
      "metadata": {
        "id": "lldDFthZC_ia",
        "colab": {
          "base_uri": "https://localhost:8080/",
          "height": 117
        },
        "outputId": "c4cbf67f-5aa8-4b59-83b3-98b0afd78756"
      },
      "source": [
        "def reverse_str(my_str):\n",
        "  length = len(my_str)\n",
        "  for i in range(length-1, -1, -1):\n",
        "    yield my_str[i]\n",
        "\n",
        "for c in reverse_str('animal'):\n",
        "  print(c)"
      ],
      "execution_count": null,
      "outputs": [
        {
          "output_type": "stream",
          "text": [
            "l\n",
            "a\n",
            "m\n",
            "i\n",
            "n\n",
            "a\n"
          ],
          "name": "stdout"
        }
      ]
    },
    {
      "cell_type": "markdown",
      "metadata": {
        "id": "wqsIEwnuElbE"
      },
      "source": [
        "## Generator expression\n",
        "The syntax of generator expression is simlar to that of list omprehension, but with square bracket repalced by round parentheses.\n",
        "\n",
        "The major difference between a list comprehension and a generator expression is that a list comprehension produces the entire list while the generator expression produces one item at a time.\n",
        "\n",
        "They have lazy execution ( producing items only when asked for ). For this reason, a generator expression is much more memory efficient than an equivalent list comprehension."
      ]
    },
    {
      "cell_type": "code",
      "metadata": {
        "id": "BdmZUYQUFHeK",
        "colab": {
          "base_uri": "https://localhost:8080/",
          "height": 84
        },
        "outputId": "8784c79d-596a-4c88-f738-6ec716412e87"
      },
      "source": [
        "list_a = [1, 3, 5, 7]\n",
        "\n",
        "g_exp = (x**2 for x in list_a)\n",
        "\n",
        "for i in g_exp:\n",
        "  print(i)"
      ],
      "execution_count": null,
      "outputs": [
        {
          "output_type": "stream",
          "text": [
            "1\n",
            "9\n",
            "25\n",
            "49\n"
          ],
          "name": "stdout"
        }
      ]
    },
    {
      "cell_type": "markdown",
      "metadata": {
        "id": "l48FuS9HGCJK"
      },
      "source": [
        "### Generator expression as function argument\n",
        "Generator expressions can be used as function arguments.  The round parenthese of the generator expression can be dropped when it appear as the sole argument of a function."
      ]
    },
    {
      "cell_type": "code",
      "metadata": {
        "id": "2-RE4g5LGBDL",
        "colab": {
          "base_uri": "https://localhost:8080/",
          "height": 33
        },
        "outputId": "48c11109-2a5e-4cfe-8d5e-643e2f15fdc0"
      },
      "source": [
        "sum(x**2 for x in list_a)"
      ],
      "execution_count": null,
      "outputs": [
        {
          "output_type": "execute_result",
          "data": {
            "text/plain": [
              "84"
            ]
          },
          "metadata": {
            "tags": []
          },
          "execution_count": 17
        }
      ]
    },
    {
      "cell_type": "code",
      "metadata": {
        "id": "2x0NsVDlGkKF",
        "colab": {
          "base_uri": "https://localhost:8080/",
          "height": 33
        },
        "outputId": "e67f23f4-0502-4492-836c-9d3f4ad92777"
      },
      "source": [
        "def f(a, b):\n",
        "  l = []\n",
        "  for i, j in zip(a, b):\n",
        "    l.append(i+j)\n",
        "  return l\n",
        "\n",
        "a = [1, 3, 5, 7]\n",
        "newlist = f(a, (x**2 for x in a))\n",
        "print(newlist)\n"
      ],
      "execution_count": null,
      "outputs": [
        {
          "output_type": "stream",
          "text": [
            "[2, 12, 30, 56]\n"
          ],
          "name": "stdout"
        }
      ]
    },
    {
      "cell_type": "markdown",
      "metadata": {
        "id": "YwxZZN76HjSe"
      },
      "source": [
        "## Pipelining of generators\n",
        "Generators can be pipelined together to form more powerful generators."
      ]
    },
    {
      "cell_type": "code",
      "metadata": {
        "id": "l_L50EwgHCUa",
        "colab": {
          "base_uri": "https://localhost:8080/",
          "height": 100
        },
        "outputId": "19c130ad-cd73-4dce-c85e-1912d92255b9"
      },
      "source": [
        "# In this example, gen_filter3 yield numbers which are multiple of 3 \n",
        "# gen_p2 yield numbers which are the power 2 of the input numbers\n",
        "def gen_filter3(nums):\n",
        "  for i in nums:\n",
        "    if i%3==0:\n",
        "      yield i\n",
        "\n",
        "def gen_p2(nums):\n",
        "  for i in nums:\n",
        "    yield i**2\n",
        "\n",
        "my_list = [2, 3, 5, 7, 9, 11, 13, 15, 17, 19, 21, 23, 25, 27]\n",
        "\n",
        "for i in gen_p2(gen_filter3(my_list)):\n",
        "  print(i)"
      ],
      "execution_count": null,
      "outputs": [
        {
          "output_type": "stream",
          "text": [
            "9\n",
            "81\n",
            "225\n",
            "441\n",
            "729\n"
          ],
          "name": "stdout"
        }
      ]
    }
  ]
}