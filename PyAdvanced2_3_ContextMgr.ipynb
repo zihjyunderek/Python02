{
  "nbformat": 4,
  "nbformat_minor": 0,
  "metadata": {
    "colab": {
      "name": "PyAdvanced2.3_ContextMgr.ipynb",
      "provenance": [],
      "collapsed_sections": []
    },
    "kernelspec": {
      "name": "python3",
      "display_name": "Python 3"
    }
  },
  "cells": [
    {
      "cell_type": "markdown",
      "metadata": {
        "id": "O6yvOk0SVG7Q"
      },
      "source": [
        "# Context Manager\n",
        "In Python (or any other programming language), we often have the following computation pattern:\n",
        "* Prepare something\n",
        "* do computation with the thing we prepare\n",
        "* Clean up after computation\n",
        "\n",
        "This is particularly often that the \"something\" we prepare is some resource, and we want to release the resource after we are done with the computation.\n",
        "\n",
        "Context manager is designed to handle such computation pattern.\n",
        "\n",
        "The comtext manager is invoked using the \"with\" keyword, and usually the code looks soemthing like the following:\n",
        "```\n",
        "with open(\"test.txt\") as f:    \n",
        "    data = f.read() \n",
        "```"
      ]
    },
    {
      "cell_type": "markdown",
      "metadata": {
        "id": "sQ9n2Hp5WKM4"
      },
      "source": [
        "## Formal definition of Context Manager\n",
        "\n",
        "A context manager is any class that implements th following two methods:\n",
        "* The `__enter__()`: does the resource preparation and returns the resource that needs to be managed, and \n",
        "* the `__exit__()`: clean up the resource and does not return anything."
      ]
    },
    {
      "cell_type": "code",
      "metadata": {
        "id": "ndzomgMJmDul",
        "colab": {
          "base_uri": "https://localhost:8080/",
          "height": 84
        },
        "outputId": "14801a29-9f3f-45b9-c096-e3011bcee6af"
      },
      "source": [
        "## A simplest Context Manager\n",
        "class ContextManager(): \n",
        "    def __init__(self): \n",
        "        print('init method called') \n",
        "          \n",
        "    def __enter__(self): \n",
        "        print('__enter__() called: we can prepare some resources here') \n",
        "        return self\n",
        "      \n",
        "    def __exit__(self, exc_type, exc_value, exc_traceback): \n",
        "        print('__exit__() called: we can clean up resources here') \n",
        "\n",
        "  \n",
        "with ContextManager() as manager: \n",
        "    print('with statement block') "
      ],
      "execution_count": null,
      "outputs": [
        {
          "output_type": "stream",
          "text": [
            "init method called\n",
            "__enter__() called: we can prepare some resources here\n",
            "with statement block\n",
            "__exit__() called: we can clean up resources here\n"
          ],
          "name": "stdout"
        }
      ]
    },
    {
      "cell_type": "code",
      "metadata": {
        "id": "kVhbFYgDmFux",
        "colab": {
          "base_uri": "https://localhost:8080/",
          "height": 50
        },
        "outputId": "5d3fccee-42e3-458a-e29f-b9860860aa4f"
      },
      "source": [
        "# We can implement a simple file manager to \"manage\" the file resource\n",
        "class FileManager(): \n",
        "    def __init__(self, filename, mode): \n",
        "        self.filename = filename \n",
        "        self.mode = mode \n",
        "        self.file = None\n",
        "          \n",
        "    def __enter__(self): \n",
        "        self.file = open(self.filename, self.mode) \n",
        "        return self.file\n",
        "      \n",
        "    def __exit__(self, exc_type, exc_value, exc_traceback): \n",
        "        self.file.close() \n",
        "  \n",
        "# loading a file  \n",
        "with FileManager('test.txt', 'w') as f: \n",
        "    f.write('Test') \n",
        "    print(\"We have written a word 'Test' into the file test.txt\")\n",
        "  \n",
        "print(\"Is file closed?\", f.closed) "
      ],
      "execution_count": null,
      "outputs": [
        {
          "output_type": "stream",
          "text": [
            "We have written a word 'Test' into the file test.txt\n",
            "Is file closed? True\n"
          ],
          "name": "stdout"
        }
      ]
    },
    {
      "cell_type": "code",
      "metadata": {
        "id": "0BMNZ-8MZB-s",
        "colab": {
          "base_uri": "https://localhost:8080/",
          "height": 50
        },
        "outputId": "5d5ae723-f152-453b-f865-797aeb92ea04"
      },
      "source": [
        "# But actually a simpler way is to write as the following (this is more often used)\n",
        "with open('test.txt', 'w') as f:\n",
        "  f.write('testing context manager with open')\n",
        "\n",
        "print('The content of test.txt is:')\n",
        "file = open('test.txt')\n",
        "for line in file:\n",
        "  print(line)\n"
      ],
      "execution_count": null,
      "outputs": [
        {
          "output_type": "stream",
          "text": [
            "The content of test.txt is:\n",
            "testing context manager with open\n"
          ],
          "name": "stdout"
        }
      ]
    },
    {
      "cell_type": "markdown",
      "metadata": {
        "id": "014Dd2bVaHjp"
      },
      "source": [
        "## What happened above?\n",
        "* `open('test.txt', 'w')` returns an object, and this object is a context manager.  \n",
        "* That is, this returned object implements two methods `__enter__()` and `__exit__()` "
      ]
    },
    {
      "cell_type": "code",
      "metadata": {
        "id": "J55Ko_O5YInB",
        "colab": {
          "base_uri": "https://localhost:8080/"
        },
        "outputId": "b935c3e3-7523-4515-f06c-eed9b3c59fdd"
      },
      "source": [
        "# we verify with the code below\n",
        "help(open)"
      ],
      "execution_count": null,
      "outputs": [
        {
          "output_type": "stream",
          "text": [
            "Help on built-in function open in module io:\n",
            "\n",
            "open(file, mode='r', buffering=-1, encoding=None, errors=None, newline=None, closefd=True, opener=None)\n",
            "    Open file and return a stream.  Raise OSError upon failure.\n",
            "    \n",
            "    file is either a text or byte string giving the name (and the path\n",
            "    if the file isn't in the current working directory) of the file to\n",
            "    be opened or an integer file descriptor of the file to be\n",
            "    wrapped. (If a file descriptor is given, it is closed when the\n",
            "    returned I/O object is closed, unless closefd is set to False.)\n",
            "    \n",
            "    mode is an optional string that specifies the mode in which the file\n",
            "    is opened. It defaults to 'r' which means open for reading in text\n",
            "    mode.  Other common values are 'w' for writing (truncating the file if\n",
            "    it already exists), 'x' for creating and writing to a new file, and\n",
            "    'a' for appending (which on some Unix systems, means that all writes\n",
            "    append to the end of the file regardless of the current seek position).\n",
            "    In text mode, if encoding is not specified the encoding used is platform\n",
            "    dependent: locale.getpreferredencoding(False) is called to get the\n",
            "    current locale encoding. (For reading and writing raw bytes use binary\n",
            "    mode and leave encoding unspecified.) The available modes are:\n",
            "    \n",
            "    ========= ===============================================================\n",
            "    Character Meaning\n",
            "    --------- ---------------------------------------------------------------\n",
            "    'r'       open for reading (default)\n",
            "    'w'       open for writing, truncating the file first\n",
            "    'x'       create a new file and open it for writing\n",
            "    'a'       open for writing, appending to the end of the file if it exists\n",
            "    'b'       binary mode\n",
            "    't'       text mode (default)\n",
            "    '+'       open a disk file for updating (reading and writing)\n",
            "    'U'       universal newline mode (deprecated)\n",
            "    ========= ===============================================================\n",
            "    \n",
            "    The default mode is 'rt' (open for reading text). For binary random\n",
            "    access, the mode 'w+b' opens and truncates the file to 0 bytes, while\n",
            "    'r+b' opens the file without truncation. The 'x' mode implies 'w' and\n",
            "    raises an `FileExistsError` if the file already exists.\n",
            "    \n",
            "    Python distinguishes between files opened in binary and text modes,\n",
            "    even when the underlying operating system doesn't. Files opened in\n",
            "    binary mode (appending 'b' to the mode argument) return contents as\n",
            "    bytes objects without any decoding. In text mode (the default, or when\n",
            "    't' is appended to the mode argument), the contents of the file are\n",
            "    returned as strings, the bytes having been first decoded using a\n",
            "    platform-dependent encoding or using the specified encoding if given.\n",
            "    \n",
            "    'U' mode is deprecated and will raise an exception in future versions\n",
            "    of Python.  It has no effect in Python 3.  Use newline to control\n",
            "    universal newlines mode.\n",
            "    \n",
            "    buffering is an optional integer used to set the buffering policy.\n",
            "    Pass 0 to switch buffering off (only allowed in binary mode), 1 to select\n",
            "    line buffering (only usable in text mode), and an integer > 1 to indicate\n",
            "    the size of a fixed-size chunk buffer.  When no buffering argument is\n",
            "    given, the default buffering policy works as follows:\n",
            "    \n",
            "    * Binary files are buffered in fixed-size chunks; the size of the buffer\n",
            "      is chosen using a heuristic trying to determine the underlying device's\n",
            "      \"block size\" and falling back on `io.DEFAULT_BUFFER_SIZE`.\n",
            "      On many systems, the buffer will typically be 4096 or 8192 bytes long.\n",
            "    \n",
            "    * \"Interactive\" text files (files for which isatty() returns True)\n",
            "      use line buffering.  Other text files use the policy described above\n",
            "      for binary files.\n",
            "    \n",
            "    encoding is the name of the encoding used to decode or encode the\n",
            "    file. This should only be used in text mode. The default encoding is\n",
            "    platform dependent, but any encoding supported by Python can be\n",
            "    passed.  See the codecs module for the list of supported encodings.\n",
            "    \n",
            "    errors is an optional string that specifies how encoding errors are to\n",
            "    be handled---this argument should not be used in binary mode. Pass\n",
            "    'strict' to raise a ValueError exception if there is an encoding error\n",
            "    (the default of None has the same effect), or pass 'ignore' to ignore\n",
            "    errors. (Note that ignoring encoding errors can lead to data loss.)\n",
            "    See the documentation for codecs.register or run 'help(codecs.Codec)'\n",
            "    for a list of the permitted encoding error strings.\n",
            "    \n",
            "    newline controls how universal newlines works (it only applies to text\n",
            "    mode). It can be None, '', '\\n', '\\r', and '\\r\\n'.  It works as\n",
            "    follows:\n",
            "    \n",
            "    * On input, if newline is None, universal newlines mode is\n",
            "      enabled. Lines in the input can end in '\\n', '\\r', or '\\r\\n', and\n",
            "      these are translated into '\\n' before being returned to the\n",
            "      caller. If it is '', universal newline mode is enabled, but line\n",
            "      endings are returned to the caller untranslated. If it has any of\n",
            "      the other legal values, input lines are only terminated by the given\n",
            "      string, and the line ending is returned to the caller untranslated.\n",
            "    \n",
            "    * On output, if newline is None, any '\\n' characters written are\n",
            "      translated to the system default line separator, os.linesep. If\n",
            "      newline is '' or '\\n', no translation takes place. If newline is any\n",
            "      of the other legal values, any '\\n' characters written are translated\n",
            "      to the given string.\n",
            "    \n",
            "    If closefd is False, the underlying file descriptor will be kept open\n",
            "    when the file is closed. This does not work when a file name is given\n",
            "    and must be True in that case.\n",
            "    \n",
            "    A custom opener can be used by passing a callable as *opener*. The\n",
            "    underlying file descriptor for the file object is then obtained by\n",
            "    calling *opener* with (*file*, *flags*). *opener* must return an open\n",
            "    file descriptor (passing os.open as *opener* results in functionality\n",
            "    similar to passing None).\n",
            "    \n",
            "    open() returns a file object whose type depends on the mode, and\n",
            "    through which the standard file operations such as reading and writing\n",
            "    are performed. When open() is used to open a file in a text mode ('w',\n",
            "    'r', 'wt', 'rt', etc.), it returns a TextIOWrapper. When used to open\n",
            "    a file in a binary mode, the returned class varies: in read binary\n",
            "    mode, it returns a BufferedReader; in write binary and append binary\n",
            "    modes, it returns a BufferedWriter, and in read/write mode, it returns\n",
            "    a BufferedRandom.\n",
            "    \n",
            "    It is also possible to use a string or bytearray as a file for both\n",
            "    reading and writing. For strings StringIO can be used like a file\n",
            "    opened in a text mode, and for bytes a BytesIO can be used like a file\n",
            "    opened in a binary mode.\n",
            "\n"
          ],
          "name": "stdout"
        }
      ]
    },
    {
      "cell_type": "code",
      "metadata": {
        "id": "YFTUZ5HpYgTm",
        "colab": {
          "base_uri": "https://localhost:8080/"
        },
        "outputId": "3c9b7e93-975c-4925-e776-d90f17b9796e"
      },
      "source": [
        "f = open(\"test.txt\", 'w')\n",
        "print(type(f))\n",
        "dir(f)"
      ],
      "execution_count": null,
      "outputs": [
        {
          "output_type": "stream",
          "text": [
            "<class '_io.TextIOWrapper'>\n"
          ],
          "name": "stdout"
        },
        {
          "output_type": "execute_result",
          "data": {
            "text/plain": [
              "['_CHUNK_SIZE',\n",
              " '__class__',\n",
              " '__del__',\n",
              " '__delattr__',\n",
              " '__dict__',\n",
              " '__dir__',\n",
              " '__doc__',\n",
              " '__enter__',\n",
              " '__eq__',\n",
              " '__exit__',\n",
              " '__format__',\n",
              " '__ge__',\n",
              " '__getattribute__',\n",
              " '__getstate__',\n",
              " '__gt__',\n",
              " '__hash__',\n",
              " '__init__',\n",
              " '__init_subclass__',\n",
              " '__iter__',\n",
              " '__le__',\n",
              " '__lt__',\n",
              " '__ne__',\n",
              " '__new__',\n",
              " '__next__',\n",
              " '__reduce__',\n",
              " '__reduce_ex__',\n",
              " '__repr__',\n",
              " '__setattr__',\n",
              " '__sizeof__',\n",
              " '__str__',\n",
              " '__subclasshook__',\n",
              " '_checkClosed',\n",
              " '_checkReadable',\n",
              " '_checkSeekable',\n",
              " '_checkWritable',\n",
              " '_finalizing',\n",
              " 'buffer',\n",
              " 'close',\n",
              " 'closed',\n",
              " 'detach',\n",
              " 'encoding',\n",
              " 'errors',\n",
              " 'fileno',\n",
              " 'flush',\n",
              " 'isatty',\n",
              " 'line_buffering',\n",
              " 'mode',\n",
              " 'name',\n",
              " 'newlines',\n",
              " 'read',\n",
              " 'readable',\n",
              " 'readline',\n",
              " 'readlines',\n",
              " 'reconfigure',\n",
              " 'seek',\n",
              " 'seekable',\n",
              " 'tell',\n",
              " 'truncate',\n",
              " 'writable',\n",
              " 'write',\n",
              " 'write_through',\n",
              " 'writelines']"
            ]
          },
          "metadata": {
            "tags": []
          },
          "execution_count": 3
        }
      ]
    },
    {
      "cell_type": "markdown",
      "metadata": {
        "id": "QVBJdEHaawLz"
      },
      "source": [
        "## Other useful context manager\n",
        "We can implement other useful context manager code besides file open/close\n"
      ]
    },
    {
      "cell_type": "code",
      "metadata": {
        "id": "JryY-DbEa7Uk"
      },
      "source": [
        "# This Python program shows the connection management for MongoDB \n",
        "# Run this code only when you have MongoDB installed on your machine\n",
        "  \n",
        "from pymongo import MongoClient \n",
        "  \n",
        "class MongoDBConnectionManager(): \n",
        "    def __init__(self, hostname, port): \n",
        "        self.hostname = hostname \n",
        "        self.port = port \n",
        "        self.connection = None\n",
        "  \n",
        "    def __enter__(self): \n",
        "        self.connection = MongoClient(self.hostname, self.port) \n",
        "        return self\n",
        "  \n",
        "    def __exit__(self, exc_type, exc_value, exc_traceback): \n",
        "        self.connection.close() \n",
        "  \n",
        "# connecting with a localhost \n",
        "with MongoDBConnectionManager('localhost', 27017) as mongo: \n",
        "    collection = mongo.connection.SampleDb.test \n",
        "    data = collection.find({'_id': 1}) \n",
        "    #print(data.get('name')) \n",
        "    print(data.next())"
      ],
      "execution_count": null,
      "outputs": []
    }
  ]
}